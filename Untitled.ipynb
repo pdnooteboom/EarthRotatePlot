{
 "cells": [
  {
   "cell_type": "code",
   "execution_count": 1,
   "id": "644e19ec",
   "metadata": {},
   "outputs": [],
   "source": [
    "import numpy as np\n",
    "import matplotlib.pylab as plt\n",
    "import matplotlib\n",
    "import cartopy.crs as ccrs\n",
    "import cmocean.cm as cm\n",
    "import cartopy.feature as cfeature\n",
    "\n",
    "from matplotlib.animation import FuncAnimation\n",
    "import matplotlib.animation as animation\n",
    "from IPython.display import Video"
   ]
  },
  {
   "cell_type": "code",
   "execution_count": 2,
   "id": "9c852cc1",
   "metadata": {},
   "outputs": [],
   "source": [
    "fs = 30\n",
    "font = {'size'   : fs}\n",
    "matplotlib.rc('font', **font)\n",
    "\n",
    "# extend of the grid:\n",
    "minlat = 20\n",
    "maxlat = 50\n",
    "minlon = 100\n",
    "maxlon = 200\n",
    "# define the grid\n",
    "X,Y = np.meshgrid(np.arange(minlon,maxlon,1), np.arange(minlat, maxlat, 1))\n",
    "# define time and Earth rotation speed\n",
    "rotateperday = 0.2\n",
    "days = np.arange(0,200,0.1)\n",
    "midlons = 100 + rotateperday*np.arange(0,len(days))"
   ]
  },
  {
   "cell_type": "code",
   "execution_count": 3,
   "id": "6465e2e8",
   "metadata": {},
   "outputs": [],
   "source": [
    "def xcon(x, lat, r0):\n",
    "    x =  (x - minlon) / (maxlon-minlon) * r0*np.pi\n",
    "    return x\n",
    "\n",
    "def ycon(y):\n",
    "    y = (y-minlat) / (maxlat-minlat) * 8000 - 4000\n",
    "    return y\n",
    "\n",
    "def BickleyJetflow(x, y, t, midlat = 35):\n",
    "    \"\"\"\n",
    "    Return the Bickley Jet flow field\n",
    "\n",
    "    \"\"\"\n",
    "    ua = np.zeros(x.shape)\n",
    "    va = np.zeros(x.shape)\n",
    "    \n",
    "    Ubj =  0.06266\n",
    "    L = 1700.\n",
    "    r0 = 6371.\n",
    "    k1 = 2 * 1/ r0\n",
    "    k2 = 2 * 2 / r0\n",
    "    k3 = 2 * 3/ r0\n",
    "    eps1 = 0.075\n",
    "    eps2 = 0.4\n",
    "    eps3 = 0.3\n",
    "    c3 = 0.461 * Ubj\n",
    "    c2 = 0.205 * Ubj\n",
    "    c1 = 0.1446 * Ubj\n",
    "    \n",
    "    x = xcon(x, midlat, r0=r0)\n",
    "    y = ycon(y)\n",
    "    \n",
    "    def v(x1, x2, t): #2D Bickley Jet velocity given single location\n",
    "        f1 = eps1 * np.exp(-1j *k1 * c1 * t)\n",
    "        f2 = eps2 * np.exp(-1j *k2 * c2 * t)\n",
    "        f3 = eps3 * np.exp(-1j *k3 * c3 * t)\n",
    "        F1 = f1 * np.exp(1j * k1 * x1)\n",
    "        F2 = f2 * np.exp(1j * k2 * x1)\n",
    "        F3 = f3 * np.exp(1j * k3 * x1)\n",
    "        G = np.real(np.sum([F1,F2,F3]))\n",
    "        G_x = np.real(np.sum([1j * k1 *F1, 1j * k2 * F2, 1j * k3 * F3]))\n",
    "        u =  Ubj / (np.cosh(x2/L)**2)  +  2 * Ubj * np.sinh(x2/L) / (np.cosh(x2/L)**3) *  G\n",
    "        vd = Ubj * L * (1./np.cosh(x2/L))**2 * G_x\n",
    "        return [u,vd]\n",
    "    \n",
    "    for i in range(x.shape[0]):\n",
    "        for j in range(y.shape[1]):\n",
    "            ua[i,j], va[i,j] = v(x[i,j], y[i,j], t*36000)\n",
    "    res = np.sqrt(ua**2+va**2)\n",
    "    \n",
    "\n",
    "    return res#,ua, va"
   ]
  },
  {
   "cell_type": "code",
   "execution_count": 4,
   "id": "5b2e8fd2",
   "metadata": {},
   "outputs": [
    {
     "name": "stderr",
     "output_type": "stream",
     "text": [
      "/Users/nooteboom/opt/anaconda3/envs/Cart2SNS/lib/python3.7/site-packages/cartopy/mpl/geoaxes.py:1491: MatplotlibDeprecationWarning: shading='flat' when X and Y have the same dimensions as C is deprecated since 3.3.  Either specify the corners of the quadrilaterals with X and Y, or pass shading='auto', 'nearest' or 'gouraud', or set rcParams['pcolor.shading'].  This will become an error two minor releases later.\n",
      "  X, Y, C = self._pcolorargs('pcolormesh', *args, allmatch=allmatch)\n"
     ]
    },
    {
     "ename": "ValueError",
     "evalue": "too many values to unpack (expected 3)",
     "output_type": "error",
     "traceback": [
      "\u001b[0;31m---------------------------------------------------------------------------\u001b[0m",
      "\u001b[0;31mValueError\u001b[0m                                Traceback (most recent call last)",
      "\u001b[0;32m<ipython-input-4-9f13847aa34f>\u001b[0m in \u001b[0;36m<module>\u001b[0;34m\u001b[0m\n\u001b[1;32m     32\u001b[0m     \u001b[0;32mreturn\u001b[0m \u001b[0mfig\u001b[0m\u001b[0;34m,\u001b[0m \u001b[0mim\u001b[0m\u001b[0;34m,\u001b[0m \u001b[0mprojection\u001b[0m\u001b[0;34m,\u001b[0m \u001b[0mtit\u001b[0m\u001b[0;34m\u001b[0m\u001b[0;34m\u001b[0m\u001b[0m\n\u001b[1;32m     33\u001b[0m \u001b[0;34m\u001b[0m\u001b[0m\n\u001b[0;32m---> 34\u001b[0;31m \u001b[0ma\u001b[0m\u001b[0;34m,\u001b[0m \u001b[0mb\u001b[0m\u001b[0;34m,\u001b[0m \u001b[0mc\u001b[0m\u001b[0;34m,\u001b[0m \u001b[0md\u001b[0m \u001b[0;34m=\u001b[0m \u001b[0mplot\u001b[0m\u001b[0;34m(\u001b[0m\u001b[0;36m0\u001b[0m\u001b[0;34m)\u001b[0m\u001b[0;34m\u001b[0m\u001b[0;34m\u001b[0m\u001b[0m\n\u001b[0m\u001b[1;32m     35\u001b[0m \u001b[0mplt\u001b[0m\u001b[0;34m.\u001b[0m\u001b[0mshow\u001b[0m\u001b[0;34m(\u001b[0m\u001b[0;34m)\u001b[0m\u001b[0;34m\u001b[0m\u001b[0;34m\u001b[0m\u001b[0m\n\u001b[1;32m     36\u001b[0m \u001b[0;34m\u001b[0m\u001b[0m\n",
      "\u001b[0;32m<ipython-input-4-9f13847aa34f>\u001b[0m in \u001b[0;36mplot\u001b[0;34m(t)\u001b[0m\n\u001b[1;32m     18\u001b[0m \u001b[0;34m\u001b[0m\u001b[0m\n\u001b[1;32m     19\u001b[0m     im, b, c = plt.pcolormesh(X, Y, data, transform=ccrs.PlateCarree(), cmap=cm.speed,\n\u001b[0;32m---> 20\u001b[0;31m                         vmin=0, vmax=0.1, shading='flat')\n\u001b[0m\u001b[1;32m     21\u001b[0m \u001b[0;34m\u001b[0m\u001b[0m\n\u001b[1;32m     22\u001b[0m     \u001b[0;31m#% add colorbar\u001b[0m\u001b[0;34m\u001b[0m\u001b[0;34m\u001b[0m\u001b[0;34m\u001b[0m\u001b[0m\n",
      "\u001b[0;32m~/opt/anaconda3/envs/Cart2SNS/lib/python3.7/site-packages/matplotlib/pyplot.py\u001b[0m in \u001b[0;36mpcolormesh\u001b[0;34m(alpha, norm, cmap, vmin, vmax, shading, antialiased, data, *args, **kwargs)\u001b[0m\n\u001b[1;32m   2802\u001b[0m         \u001b[0;34m*\u001b[0m\u001b[0margs\u001b[0m\u001b[0;34m,\u001b[0m \u001b[0malpha\u001b[0m\u001b[0;34m=\u001b[0m\u001b[0malpha\u001b[0m\u001b[0;34m,\u001b[0m \u001b[0mnorm\u001b[0m\u001b[0;34m=\u001b[0m\u001b[0mnorm\u001b[0m\u001b[0;34m,\u001b[0m \u001b[0mcmap\u001b[0m\u001b[0;34m=\u001b[0m\u001b[0mcmap\u001b[0m\u001b[0;34m,\u001b[0m \u001b[0mvmin\u001b[0m\u001b[0;34m=\u001b[0m\u001b[0mvmin\u001b[0m\u001b[0;34m,\u001b[0m\u001b[0;34m\u001b[0m\u001b[0;34m\u001b[0m\u001b[0m\n\u001b[1;32m   2803\u001b[0m         \u001b[0mvmax\u001b[0m\u001b[0;34m=\u001b[0m\u001b[0mvmax\u001b[0m\u001b[0;34m,\u001b[0m \u001b[0mshading\u001b[0m\u001b[0;34m=\u001b[0m\u001b[0mshading\u001b[0m\u001b[0;34m,\u001b[0m \u001b[0mantialiased\u001b[0m\u001b[0;34m=\u001b[0m\u001b[0mantialiased\u001b[0m\u001b[0;34m,\u001b[0m\u001b[0;34m\u001b[0m\u001b[0;34m\u001b[0m\u001b[0m\n\u001b[0;32m-> 2804\u001b[0;31m         **({\"data\": data} if data is not None else {}), **kwargs)\n\u001b[0m\u001b[1;32m   2805\u001b[0m     \u001b[0msci\u001b[0m\u001b[0;34m(\u001b[0m\u001b[0m__ret\u001b[0m\u001b[0;34m)\u001b[0m\u001b[0;34m\u001b[0m\u001b[0;34m\u001b[0m\u001b[0m\n\u001b[1;32m   2806\u001b[0m     \u001b[0;32mreturn\u001b[0m \u001b[0m__ret\u001b[0m\u001b[0;34m\u001b[0m\u001b[0;34m\u001b[0m\u001b[0m\n",
      "\u001b[0;32m~/opt/anaconda3/envs/Cart2SNS/lib/python3.7/site-packages/cartopy/mpl/geoaxes.py\u001b[0m in \u001b[0;36mpcolormesh\u001b[0;34m(self, *args, **kwargs)\u001b[0m\n\u001b[1;32m   1457\u001b[0m                              ' consider using PlateCarree/RotatedPole.')\n\u001b[1;32m   1458\u001b[0m         \u001b[0mkwargs\u001b[0m\u001b[0;34m.\u001b[0m\u001b[0msetdefault\u001b[0m\u001b[0;34m(\u001b[0m\u001b[0;34m'transform'\u001b[0m\u001b[0;34m,\u001b[0m \u001b[0mt\u001b[0m\u001b[0;34m)\u001b[0m\u001b[0;34m\u001b[0m\u001b[0;34m\u001b[0m\u001b[0m\n\u001b[0;32m-> 1459\u001b[0;31m         \u001b[0mresult\u001b[0m \u001b[0;34m=\u001b[0m \u001b[0mself\u001b[0m\u001b[0;34m.\u001b[0m\u001b[0m_pcolormesh_patched\u001b[0m\u001b[0;34m(\u001b[0m\u001b[0;34m*\u001b[0m\u001b[0margs\u001b[0m\u001b[0;34m,\u001b[0m \u001b[0;34m**\u001b[0m\u001b[0mkwargs\u001b[0m\u001b[0;34m)\u001b[0m\u001b[0;34m\u001b[0m\u001b[0;34m\u001b[0m\u001b[0m\n\u001b[0m\u001b[1;32m   1460\u001b[0m         \u001b[0mself\u001b[0m\u001b[0;34m.\u001b[0m\u001b[0mautoscale_view\u001b[0m\u001b[0;34m(\u001b[0m\u001b[0;34m)\u001b[0m\u001b[0;34m\u001b[0m\u001b[0;34m\u001b[0m\u001b[0m\n\u001b[1;32m   1461\u001b[0m         \u001b[0;32mreturn\u001b[0m \u001b[0mresult\u001b[0m\u001b[0;34m\u001b[0m\u001b[0;34m\u001b[0m\u001b[0m\n",
      "\u001b[0;32m~/opt/anaconda3/envs/Cart2SNS/lib/python3.7/site-packages/cartopy/mpl/geoaxes.py\u001b[0m in \u001b[0;36m_pcolormesh_patched\u001b[0;34m(self, *args, **kwargs)\u001b[0m\n\u001b[1;32m   1489\u001b[0m         \u001b[0mallmatch\u001b[0m \u001b[0;34m=\u001b[0m \u001b[0;34m(\u001b[0m\u001b[0mshading\u001b[0m \u001b[0;34m==\u001b[0m \u001b[0;34m'gouraud'\u001b[0m\u001b[0;34m)\u001b[0m\u001b[0;34m\u001b[0m\u001b[0;34m\u001b[0m\u001b[0m\n\u001b[1;32m   1490\u001b[0m \u001b[0;34m\u001b[0m\u001b[0m\n\u001b[0;32m-> 1491\u001b[0;31m         \u001b[0mX\u001b[0m\u001b[0;34m,\u001b[0m \u001b[0mY\u001b[0m\u001b[0;34m,\u001b[0m \u001b[0mC\u001b[0m \u001b[0;34m=\u001b[0m \u001b[0mself\u001b[0m\u001b[0;34m.\u001b[0m\u001b[0m_pcolorargs\u001b[0m\u001b[0;34m(\u001b[0m\u001b[0;34m'pcolormesh'\u001b[0m\u001b[0;34m,\u001b[0m \u001b[0;34m*\u001b[0m\u001b[0margs\u001b[0m\u001b[0;34m,\u001b[0m \u001b[0mallmatch\u001b[0m\u001b[0;34m=\u001b[0m\u001b[0mallmatch\u001b[0m\u001b[0;34m)\u001b[0m\u001b[0;34m\u001b[0m\u001b[0;34m\u001b[0m\u001b[0m\n\u001b[0m\u001b[1;32m   1492\u001b[0m         \u001b[0mNy\u001b[0m\u001b[0;34m,\u001b[0m \u001b[0mNx\u001b[0m \u001b[0;34m=\u001b[0m \u001b[0mX\u001b[0m\u001b[0;34m.\u001b[0m\u001b[0mshape\u001b[0m\u001b[0;34m\u001b[0m\u001b[0;34m\u001b[0m\u001b[0m\n\u001b[1;32m   1493\u001b[0m \u001b[0;34m\u001b[0m\u001b[0m\n",
      "\u001b[0;31mValueError\u001b[0m: too many values to unpack (expected 3)"
     ]
    },
    {
     "name": "stderr",
     "output_type": "stream",
     "text": [
      "/Users/nooteboom/opt/anaconda3/envs/Cart2SNS/lib/python3.7/site-packages/cartopy/mpl/geoaxes.py:388: MatplotlibDeprecationWarning: \n",
      "The 'inframe' parameter of draw() was deprecated in Matplotlib 3.3 and will be removed two minor releases later. Use Axes.redraw_in_frame() instead. If any parameter follows 'inframe', they should be passed as keyword, not positionally.\n",
      "  inframe=inframe)\n"
     ]
    },
    {
     "data": {
      "image/png": "[encoded data removed]",
      "text/plain": [
       "<Figure size 432x288 with 1 Axes>"
      ]
     },
     "metadata": {
      "needs_background": "light"
     },
     "output_type": "display_data"
    }
   ],
   "source": [
    "def pmesh(ax, x, y, data):\n",
    "    return ax.pcolormesh(x, y, data, transform=ccrs.PlateCarree(),\n",
    "                        cmap=cmap,\n",
    "                        vmin=vs[0], vmax=vs[1])\n",
    "\n",
    "\n",
    "def plot(t): \n",
    "    data = BickleyJetflow(X, Y, days[t])\n",
    "    \n",
    "    fig = plt.figure()\n",
    "    #projection = ccrs.Orthographic(midlons[t], 0)\n",
    "    projection = ccrs.NearsidePerspective(midlons[t], 0)\n",
    "\n",
    "    ax = plt.subplot(111, projection=projection)\n",
    "    ax.add_feature(cfeature.LAND, zorder=0, edgecolor='black')\n",
    "    ax.set_global()\n",
    "    tit = ax.set_title('day %.1f'%(days[t]), fontsize=fs)\n",
    "\n",
    "    im, b, c = plt.pcolormesh(X, Y, data, transform=ccrs.PlateCarree(), cmap=cm.speed,\n",
    "                        vmin=0, vmax=0.1, shading='flat')\n",
    "\n",
    "    #% add colorbar  \n",
    "    fig.subplots_adjust(right=0.95)\n",
    "    cbar_ax = fig.add_axes([0.95, 0.1, 0.1, 0.8])\n",
    "    cbar_ax.set_visible(False)\n",
    "    #cbar = fig.colorbar(im, ax=cbar_ax, orientation = 'vertical', fraction = 0.8,\n",
    "    #                aspect=18)\n",
    "    #cbar.ax.xaxis.set_label_position('bottom')\n",
    "    #cbar.ax.set_xlabel('m s$^{-1}$', fontsize=fs)    \n",
    "    #cbar.ax.tick_params(labelsize=fs)\n",
    "    \n",
    "    return fig, im, projection, tit\n",
    "\n",
    "a, b, c, d = plot(0)\n",
    "plt.show()\n",
    "\n",
    "assert False"
   ]
  },
  {
   "cell_type": "code",
   "execution_count": null,
   "id": "107edf96",
   "metadata": {},
   "outputs": [],
   "source": [
    "fig, plot, proj, tit = plot(0)\n",
    "\n",
    "def init_animation():\n",
    "    data = BickleyJetflow(x, y, days[0])\n",
    "\n",
    "def animate(t):\n",
    "    data, u, v = BickleyJetflow(x, y, days[t])\n",
    "\n",
    "    #data.set_offsets(np.c_[[x, y, days[t]]]) \n",
    "    proj.set_offsets(np.c_[[midlons[t], 0]])    \n",
    "    tit.set_offsets(np.c_[['day %.1f'%(days[t]), fs]])\n",
    "    plot.set_offsets(np.c_[x, y, data])\n",
    "\n",
    "    \n",
    "anim = FuncAnimation(fig, animate, frames = days, interval=10)#, init_func=init_animation\n",
    "\n",
    "\n",
    "Writer = animation.writers['ffmpeg']\n",
    "writer = Writer(fps=15, metadata=dict(artist='Me'), bitrate=1800)\n",
    "anim.save('anim_June_s1_TIDAL_all_subregion.mp4', writer=writer, dpi=500)\n",
    "    \n",
    "plt.close()"
   ]
  },
  {
   "cell_type": "code",
   "execution_count": null,
   "id": "321271c4",
   "metadata": {},
   "outputs": [],
   "source": [
    "Video('anim_June_s1_TIDAL_all_subregion.mp4', embed=True)"
   ]
  },
  {
   "cell_type": "code",
   "execution_count": null,
   "id": "301f7e72",
   "metadata": {},
   "outputs": [],
   "source": []
  }
 ],
 "metadata": {
  "kernelspec": {
   "display_name": "Python [conda env:Cart2SNS]",
   "language": "python",
   "name": "conda-env-Cart2SNS-py"
  },
  "language_info": {
   "codemirror_mode": {
    "name": "ipython",
    "version": 3
   },
   "file_extension": ".py",
   "mimetype": "text/x-python",
   "name": "python",
   "nbconvert_exporter": "python",
   "pygments_lexer": "ipython3",
   "version": "3.7.10"
  }
 },
 "nbformat": 4,
 "nbformat_minor": 5
}
