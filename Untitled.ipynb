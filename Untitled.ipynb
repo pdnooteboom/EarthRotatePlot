{
 "cells": [
  {
   "cell_type": "code",
   "execution_count": 1,
   "id": "609795d9",
   "metadata": {},
   "outputs": [],
   "source": [
    "import numpy as np\n",
    "import matplotlib.pylab as plt\n",
    "import matplotlib\n",
    "import cartopy.crs as ccrs\n",
    "import cmocean.cm as cm\n",
    "import cartopy.feature as cfeature\n",
    "\n",
    "from matplotlib.animation import FuncAnimation\n",
    "import matplotlib.animation as animation\n",
    "from IPython.display import Video"
   ]
  },
  {
   "cell_type": "code",
   "execution_count": 2,
   "id": "3e480c18",
   "metadata": {},
   "outputs": [],
   "source": [
    "fs = 30\n",
    "font = {'size'   : fs}\n",
    "matplotlib.rc('font', **font)\n",
    "\n",
    "# extend of the grid:\n",
    "minlat = 20\n",
    "maxlat = 50\n",
    "minlon = 100\n",
    "maxlon = 200\n",
    "# define the grid\n",
    "X,Y = np.meshgrid(np.arange(minlon,maxlon,1), np.arange(minlat, maxlat, 1))\n",
    "# define time and Earth rotation speed\n",
    "rotateperday = 2#0.2\n",
    "days = np.arange(0,50,0.5)\n",
    "midlons = 100 + rotateperday*days"
   ]
  },
  {
   "cell_type": "code",
   "execution_count": 3,
   "id": "e7647588",
   "metadata": {},
   "outputs": [],
   "source": [
    "def xcon(x, lat, r0):\n",
    "    x =  (x - minlon) / (maxlon-minlon) * r0*np.pi\n",
    "    return x\n",
    "\n",
    "def ycon(y):\n",
    "    y = (y-minlat) / (maxlat-minlat) * 8000 - 4000\n",
    "    return y\n",
    "\n",
    "def BickleyJetflow(x, y, t, midlat = 35):\n",
    "    \"\"\"\n",
    "    Return the Bickley Jet flow field\n",
    "\n",
    "    \"\"\"\n",
    "    ua = np.zeros(x.shape)\n",
    "    va = np.zeros(x.shape)\n",
    "    \n",
    "    Ubj =  0.06266\n",
    "    L = 1700.\n",
    "    r0 = 6371.\n",
    "    k1 = 2 * 1/ r0\n",
    "    k2 = 2 * 2 / r0\n",
    "    k3 = 2 * 3/ r0\n",
    "    eps1 = 0.075\n",
    "    eps2 = 0.4\n",
    "    eps3 = 0.3\n",
    "    c3 = 0.461 * Ubj\n",
    "    c2 = 0.205 * Ubj\n",
    "    c1 = 0.1446 * Ubj\n",
    "    \n",
    "    x = xcon(x, midlat, r0=r0)\n",
    "    y = ycon(y)\n",
    "    \n",
    "    def v(x1, x2, t): #2D Bickley Jet velocity given single location\n",
    "        f1 = eps1 * np.exp(-1j *k1 * c1 * t)\n",
    "        f2 = eps2 * np.exp(-1j *k2 * c2 * t)\n",
    "        f3 = eps3 * np.exp(-1j *k3 * c3 * t)\n",
    "        F1 = f1 * np.exp(1j * k1 * x1)\n",
    "        F2 = f2 * np.exp(1j * k2 * x1)\n",
    "        F3 = f3 * np.exp(1j * k3 * x1)\n",
    "        G = np.real(np.sum([F1,F2,F3]))\n",
    "        G_x = np.real(np.sum([1j * k1 *F1, 1j * k2 * F2, 1j * k3 * F3]))\n",
    "        u =  Ubj / (np.cosh(x2/L)**2)  +  2 * Ubj * np.sinh(x2/L) / (np.cosh(x2/L)**3) *  G\n",
    "        vd = Ubj * L * (1./np.cosh(x2/L))**2 * G_x\n",
    "        return [u,vd]\n",
    "    \n",
    "    for i in range(x.shape[0]):\n",
    "        for j in range(y.shape[1]):\n",
    "            ua[i,j], va[i,j] = v(x[i,j], y[i,j], t*36000)\n",
    "    res = np.sqrt(ua**2+va**2)\n",
    "    \n",
    "\n",
    "    return res#,ua, va"
   ]
  },
  {
   "cell_type": "code",
   "execution_count": 4,
   "id": "aacd8908",
   "metadata": {},
   "outputs": [],
   "source": [
    "def pmesh(ax, x, y, data):\n",
    "    return ax.pcolormesh(x, y, data, transform=ccrs.PlateCarree(),\n",
    "                        cmap=cmap,\n",
    "                        vmin=vs[0], vmax=vs[1])\n",
    "\n",
    "\n",
    "def plot(t): \n",
    "    data = BickleyJetflow(X, Y, days[t])\n",
    "    \n",
    "    fig = plt.figure()\n",
    "    #projection = ccrs.Orthographic(midlons[t], 0)\n",
    "    projection = ccrs.NearsidePerspective(midlons[t], 0)\n",
    "\n",
    "    ax = plt.subplot(111, projection=projection)\n",
    "    ax.add_feature(cfeature.LAND, zorder=0, edgecolor='black')\n",
    "    ax.set_global()\n",
    "    tit = ax.set_title('day %.1f'%(days[t]), fontsize=fs)\n",
    "\n",
    "    im = ax.pcolor(X, Y, data, transform=ccrs.PlateCarree(), cmap=cm.speed,\n",
    "                        vmin=0, vmax=0.1)\n",
    "\n",
    "    #% add colorbar  \n",
    "    fig.subplots_adjust(right=0.95)\n",
    "    cbar_ax = fig.add_axes([0.95, 0.1, 0.1, 0.8])\n",
    "    cbar_ax.set_visible(False)\n",
    "    \n",
    "    cbar = fig.colorbar(im, ax=cbar_ax, orientation = 'vertical', fraction = 0.8,\n",
    "                    aspect=18)\n",
    "    cbar.ax.xaxis.set_label_position('bottom')\n",
    "    cbar.ax.set_xlabel('m s$^{-1}$', fontsize=fs)    \n",
    "    cbar.ax.tick_params(labelsize=fs)\n",
    "    return fig, ax, tit, cbar_ax\n",
    "\n",
    "#a, b, c, d = plot(0)\n",
    "#plt.show()"
   ]
  },
  {
   "cell_type": "code",
   "execution_count": null,
   "id": "757b0b47",
   "metadata": {},
   "outputs": [
    {
     "name": "stderr",
     "output_type": "stream",
     "text": [
      "/Users/nooteboom/opt/anaconda3/envs/Cart2SNS/lib/python3.7/site-packages/cartopy/mpl/geoaxes.py:1665: MatplotlibDeprecationWarning: shading='flat' when X and Y have the same dimensions as C is deprecated since 3.3.  Either specify the corners of the quadrilaterals with X and Y, or pass shading='auto', 'nearest' or 'gouraud', or set rcParams['pcolor.shading'].  This will become an error two minor releases later.\n",
      "  result = matplotlib.axes.Axes.pcolor(self, *args, **kwargs)\n"
     ]
    },
    {
     "name": "stdout",
     "output_type": "stream",
     "text": [
      "0.0\n"
     ]
    },
    {
     "name": "stderr",
     "output_type": "stream",
     "text": [
      "/Users/nooteboom/opt/anaconda3/envs/Cart2SNS/lib/python3.7/site-packages/cartopy/mpl/geoaxes.py:1665: MatplotlibDeprecationWarning: shading='flat' when X and Y have the same dimensions as C is deprecated since 3.3.  Either specify the corners of the quadrilaterals with X and Y, or pass shading='auto', 'nearest' or 'gouraud', or set rcParams['pcolor.shading'].  This will become an error two minor releases later.\n",
      "  result = matplotlib.axes.Axes.pcolor(self, *args, **kwargs)\n"
     ]
    },
    {
     "name": "stdout",
     "output_type": "stream",
     "text": [
      "0.0\n"
     ]
    },
    {
     "name": "stderr",
     "output_type": "stream",
     "text": [
      "/Users/nooteboom/opt/anaconda3/envs/Cart2SNS/lib/python3.7/site-packages/cartopy/mpl/geoaxes.py:388: MatplotlibDeprecationWarning: \n",
      "The 'inframe' parameter of draw() was deprecated in Matplotlib 3.3 and will be removed two minor releases later. Use Axes.redraw_in_frame() instead. If any parameter follows 'inframe', they should be passed as keyword, not positionally.\n",
      "  inframe=inframe)\n"
     ]
    },
    {
     "name": "stdout",
     "output_type": "stream",
     "text": [
      "0.02\n",
      "0.04\n",
      "0.06\n",
      "0.08\n",
      "0.1\n",
      "0.12\n",
      "0.14\n",
      "0.16\n",
      "0.18\n",
      "0.2\n",
      "0.22\n",
      "0.24\n",
      "0.26\n",
      "0.28\n",
      "0.3\n",
      "0.32\n",
      "0.34\n",
      "0.36\n",
      "0.38\n",
      "0.4\n",
      "0.42\n",
      "0.44\n",
      "0.46\n",
      "0.48\n",
      "0.5\n",
      "0.52\n",
      "0.54\n",
      "0.56\n",
      "0.58\n",
      "0.6\n",
      "0.62\n",
      "0.64\n",
      "0.66\n",
      "0.68\n"
     ]
    }
   ],
   "source": [
    "fig, ax, tit, cbar_ax = plot(0)\n",
    "\n",
    "#print(dir(ax))\n",
    "#print(dir(plot))\n",
    "#assert False\n",
    "def init_animation():\n",
    "    data = BickleyJetflow(x, y, days[0])\n",
    "\n",
    "def animate(t):\n",
    "    if(t%2==0):\n",
    "        print(t/len(days))\n",
    "    data = BickleyJetflow(X, Y, days[t])\n",
    "    projection = ccrs.NearsidePerspective(midlons[t], 0)\n",
    "\n",
    "    ax.set_transform(projection)\n",
    "    tit.set_text('day %.1f'%(days[t]))\n",
    "    im = ax.pcolor(X, Y, data, transform=ccrs.PlateCarree(), cmap=cm.speed,\n",
    "                        vmin=0, vmax=0.1)\n",
    "\n",
    "    \n",
    "anim = FuncAnimation(fig, animate, frames = np.arange(len(days)), interval=10)#, init_func=init_animation\n",
    "\n",
    "Writer = animation.writers['ffmpeg']\n",
    "writer = Writer(fps=15, metadata=dict(artist='Me'), bitrate=1800)\n",
    "anim.save('EarthRotation.mp4', writer=writer, dpi=500)\n",
    "\n",
    "plt.close()"
   ]
  },
  {
   "cell_type": "code",
   "execution_count": null,
   "id": "a6cfd4b1",
   "metadata": {},
   "outputs": [],
   "source": [
    "Video('EarthRotation.mp4', embed=True)"
   ]
  },
  {
   "cell_type": "code",
   "execution_count": null,
   "id": "5ba1210f",
   "metadata": {},
   "outputs": [],
   "source": []
  }
 ],
 "metadata": {
  "kernelspec": {
   "display_name": "Python [conda env:Cart2SNS]",
   "language": "python",
   "name": "conda-env-Cart2SNS-py"
  },
  "language_info": {
   "codemirror_mode": {
    "name": "ipython",
    "version": 3
   },
   "file_extension": ".py",
   "mimetype": "text/x-python",
   "name": "python",
   "nbconvert_exporter": "python",
   "pygments_lexer": "ipython3",
   "version": "3.7.10"
  }
 },
 "nbformat": 4,
 "nbformat_minor": 5
}
